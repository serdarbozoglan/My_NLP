{
  "nbformat": 4,
  "nbformat_minor": 0,
  "metadata": {
    "colab": {
      "name": "Intent_Recognition_with_BERT_and Keras.ipynb",
      "provenance": [],
      "collapsed_sections": [],
      "authorship_tag": "ABX9TyPgYeSXrXjq9F/DlCAEK2tM",
      "include_colab_link": true
    },
    "kernelspec": {
      "name": "python3",
      "display_name": "Python 3"
    },
    "accelerator": "GPU"
  },
  "cells": [
    {
      "cell_type": "markdown",
      "metadata": {
        "id": "view-in-github",
        "colab_type": "text"
      },
      "source": [
        "<a href=\"https://colab.research.google.com/github/serdarbozoglan/My_NLP/blob/master/Intent_Recognition_with_BERT_and_Keras.ipynb\" target=\"_parent\"><img src=\"https://colab.research.google.com/assets/colab-badge.svg\" alt=\"Open In Colab\"/></a>"
      ]
    },
    {
      "cell_type": "markdown",
      "metadata": {
        "id": "Xqv2JTViqCYU",
        "colab_type": "text"
      },
      "source": [
        "Before Starting Slect GPU from the RunTime"
      ]
    },
    {
      "cell_type": "code",
      "metadata": {
        "id": "Rva_nwo7Qjt6",
        "colab_type": "code",
        "colab": {}
      },
      "source": [
        "# This shows our gpu spesifications\n",
        "!nvidia-smi"
      ],
      "execution_count": 0,
      "outputs": []
    },
    {
      "cell_type": "code",
      "metadata": {
        "id": "AtJeKjFUQyEr",
        "colab_type": "code",
        "colab": {}
      },
      "source": [
        "!pip install tensorflow-gpu >> /dev/null"
      ],
      "execution_count": 0,
      "outputs": []
    },
    {
      "cell_type": "code",
      "metadata": {
        "id": "1Vi_WwHgQ8gQ",
        "colab_type": "code",
        "colab": {}
      },
      "source": [
        "!pip install --upgrade grpcio"
      ],
      "execution_count": 0,
      "outputs": []
    },
    {
      "cell_type": "code",
      "metadata": {
        "id": "eKqXl59JRRIY",
        "colab_type": "code",
        "colab": {}
      },
      "source": [
        "!pip install tqdm "
      ],
      "execution_count": 0,
      "outputs": []
    },
    {
      "cell_type": "code",
      "metadata": {
        "id": "z37M_TPVRcLP",
        "colab_type": "code",
        "colab": {}
      },
      "source": [
        "!pip install bert-for_tf2"
      ],
      "execution_count": 0,
      "outputs": []
    },
    {
      "cell_type": "code",
      "metadata": {
        "id": "eghgJArYSR2r",
        "colab_type": "code",
        "colab": {}
      },
      "source": [
        "!pip install sentencepiece"
      ],
      "execution_count": 0,
      "outputs": []
    },
    {
      "cell_type": "code",
      "metadata": {
        "id": "ShICcbWsSYV5",
        "colab_type": "code",
        "outputId": "94865f8f-ca46-4869-ee6d-6ff802021b02",
        "colab": {
          "base_uri": "https://localhost:8080/",
          "height": 71
        }
      },
      "source": [
        "import os\n",
        "import math\n",
        "import datetime\n",
        "\n",
        "from tqdm import tqdm\n",
        "import pandas as pd\n",
        "import numpy as np\n",
        "import tensorflow as tf\n",
        "from tensorflow import keras\n",
        "\n",
        "import bert\n",
        "from bert import BertModelLayer\n",
        "from bert.loader import StockBertConfig, map_stock_config_to_params, load_stock_weights\n",
        "from bert.tokenization.bert_tokenization import FullTokenizer\n",
        "\n",
        "import seaborn as sns\n",
        "from pylab import rcParams\n",
        "import matplotlib.pyplot as plt\n",
        "from matplotlib.ticker import MaxNLocator\n",
        "\n",
        "from sklearn.metrics import confusion_matrix, classification_report\n",
        "\n",
        "%matplotlib inline\n",
        "%config InlineBackend.figure_format='retina'\n",
        "\n",
        "sns.set(style='whitegrid', palette='muted', font_scale=1.2)\n",
        "\n",
        "HAPPY_COLOR_PALLETE = [\"#01BEFE\", '#FFDD00', '#FF7D00', '#FF006D', '#ADFF02', '#8F00FF']\n",
        "\n",
        "sns.set_palette(sns.color_palette(HAPPY_COLOR_PALLETE))\n",
        "rcParams['figure.figsize'] = 12,8\n",
        "\n",
        "RANDOM_SEED =4299\n",
        "np.random.seed(RANDOM_SEED)\n",
        "tf.random.set_seed(RANDOM_SEED)"
      ],
      "execution_count": 0,
      "outputs": [
        {
          "output_type": "stream",
          "text": [
            "/usr/local/lib/python3.6/dist-packages/statsmodels/tools/_testing.py:19: FutureWarning: pandas.util.testing is deprecated. Use the functions in the public API at pandas.testing instead.\n",
            "  import pandas.util.testing as tm\n"
          ],
          "name": "stderr"
        }
      ]
    },
    {
      "cell_type": "markdown",
      "metadata": {
        "id": "ycCXO9PhWWO2",
        "colab_type": "text"
      },
      "source": [
        "**DATA: **\n",
        "\n",
        "https://www.curiousily.com/posts/intent-recognition-with-bert-using-keras-and-tensorflow-2/\n",
        "\n",
        "https://www.youtube.com/watch?v=gE-95nFF4Cc"
      ]
    },
    {
      "cell_type": "code",
      "metadata": {
        "id": "9ygi-JbmTbgd",
        "colab_type": "code",
        "outputId": "2c684242-19ac-465d-f034-c06733e71cc0",
        "colab": {
          "base_uri": "https://localhost:8080/",
          "height": 221
        }
      },
      "source": [
        "!gdown --id 1OlcvGWReJMuyYQuOZm149vHWwPtlboR6 --output train.csv\n",
        "!gdown --id 1Oi5cRlTybuIF2Fl5Bfsr-KkqrXrdt77w --output valid.csv\n",
        "!gdown --id 1ep9H6-HvhB4utJRLVcLzieWNUSG3P_uF --output test.csv"
      ],
      "execution_count": 0,
      "outputs": [
        {
          "output_type": "stream",
          "text": [
            "Downloading...\n",
            "From: https://drive.google.com/uc?id=1OlcvGWReJMuyYQuOZm149vHWwPtlboR6\n",
            "To: /content/train.csv\n",
            "100% 799k/799k [00:00<00:00, 53.5MB/s]\n",
            "Downloading...\n",
            "From: https://drive.google.com/uc?id=1Oi5cRlTybuIF2Fl5Bfsr-KkqrXrdt77w\n",
            "To: /content/valid.csv\n",
            "100% 43.3k/43.3k [00:00<00:00, 16.4MB/s]\n",
            "Downloading...\n",
            "From: https://drive.google.com/uc?id=1ep9H6-HvhB4utJRLVcLzieWNUSG3P_uF\n",
            "To: /content/test.csv\n",
            "100% 43.1k/43.1k [00:00<00:00, 69.6MB/s]\n"
          ],
          "name": "stdout"
        }
      ]
    },
    {
      "cell_type": "markdown",
      "metadata": {
        "id": "QSw1KC5YdwVL",
        "colab_type": "text"
      },
      "source": [
        "Indirilen dosyalari Files/content icinde gorebilirisin"
      ]
    },
    {
      "cell_type": "code",
      "metadata": {
        "id": "89XOJeJbVznx",
        "colab_type": "code",
        "colab": {}
      },
      "source": [
        "train = pd.read_csv(\"train.csv\")\n",
        "valid = pd.read_csv(\"valid.csv\")\n",
        "test = pd.read_csv(\"test.csv\")"
      ],
      "execution_count": 0,
      "outputs": []
    },
    {
      "cell_type": "code",
      "metadata": {
        "id": "x-JS2n7pXfwP",
        "colab_type": "code",
        "colab": {}
      },
      "source": [
        "# We will merge train and validation and validation will be by splitting in Keras\n",
        "train = train.append(valid).reset_index(drop=True)"
      ],
      "execution_count": 0,
      "outputs": []
    },
    {
      "cell_type": "code",
      "metadata": {
        "id": "xOcrzPcgYPQV",
        "colab_type": "code",
        "outputId": "684e2056-17dd-4315-db2b-c5914420b033",
        "colab": {
          "base_uri": "https://localhost:8080/",
          "height": 34
        }
      },
      "source": [
        "train.shape"
      ],
      "execution_count": 0,
      "outputs": [
        {
          "output_type": "execute_result",
          "data": {
            "text/plain": [
              "(13784, 2)"
            ]
          },
          "metadata": {
            "tags": []
          },
          "execution_count": 14
        }
      ]
    },
    {
      "cell_type": "code",
      "metadata": {
        "id": "qgOePBtjYUN1",
        "colab_type": "code",
        "outputId": "a337f450-b244-4447-ed30-101899a7dbbe",
        "colab": {
          "base_uri": "https://localhost:8080/",
          "height": 204
        }
      },
      "source": [
        "train.head()"
      ],
      "execution_count": 0,
      "outputs": [
        {
          "output_type": "execute_result",
          "data": {
            "text/html": [
              "<div>\n",
              "<style scoped>\n",
              "    .dataframe tbody tr th:only-of-type {\n",
              "        vertical-align: middle;\n",
              "    }\n",
              "\n",
              "    .dataframe tbody tr th {\n",
              "        vertical-align: top;\n",
              "    }\n",
              "\n",
              "    .dataframe thead th {\n",
              "        text-align: right;\n",
              "    }\n",
              "</style>\n",
              "<table border=\"1\" class=\"dataframe\">\n",
              "  <thead>\n",
              "    <tr style=\"text-align: right;\">\n",
              "      <th></th>\n",
              "      <th>text</th>\n",
              "      <th>intent</th>\n",
              "    </tr>\n",
              "  </thead>\n",
              "  <tbody>\n",
              "    <tr>\n",
              "      <th>0</th>\n",
              "      <td>listen to westbam alumb allergic on google music</td>\n",
              "      <td>PlayMusic</td>\n",
              "    </tr>\n",
              "    <tr>\n",
              "      <th>1</th>\n",
              "      <td>add step to me to the 50 clásicos playlist</td>\n",
              "      <td>AddToPlaylist</td>\n",
              "    </tr>\n",
              "    <tr>\n",
              "      <th>2</th>\n",
              "      <td>i give this current textbook a rating value of...</td>\n",
              "      <td>RateBook</td>\n",
              "    </tr>\n",
              "    <tr>\n",
              "      <th>3</th>\n",
              "      <td>play the song little robin redbreast</td>\n",
              "      <td>PlayMusic</td>\n",
              "    </tr>\n",
              "    <tr>\n",
              "      <th>4</th>\n",
              "      <td>please add iris dement to my playlist this is ...</td>\n",
              "      <td>AddToPlaylist</td>\n",
              "    </tr>\n",
              "  </tbody>\n",
              "</table>\n",
              "</div>"
            ],
            "text/plain": [
              "                                                text         intent\n",
              "0   listen to westbam alumb allergic on google music      PlayMusic\n",
              "1         add step to me to the 50 clásicos playlist  AddToPlaylist\n",
              "2  i give this current textbook a rating value of...       RateBook\n",
              "3               play the song little robin redbreast      PlayMusic\n",
              "4  please add iris dement to my playlist this is ...  AddToPlaylist"
            ]
          },
          "metadata": {
            "tags": []
          },
          "execution_count": 15
        }
      ]
    },
    {
      "cell_type": "code",
      "metadata": {
        "id": "JarA7EXJYVjG",
        "colab_type": "code",
        "outputId": "0381ac63-2bdf-4162-d748-1b736711bd93",
        "colab": {
          "base_uri": "https://localhost:8080/",
          "height": 153
        }
      },
      "source": [
        "train['intent'].value_counts(normalize=True)"
      ],
      "execution_count": 0,
      "outputs": [
        {
          "output_type": "execute_result",
          "data": {
            "text/plain": [
              "PlayMusic               0.146111\n",
              "GetWeather              0.144806\n",
              "BookRestaurant          0.143717\n",
              "RateBook                0.143355\n",
              "SearchScreeningEvent    0.141613\n",
              "SearchCreativeWork      0.141251\n",
              "AddToPlaylist           0.139147\n",
              "Name: intent, dtype: float64"
            ]
          },
          "metadata": {
            "tags": []
          },
          "execution_count": 16
        }
      ]
    },
    {
      "cell_type": "code",
      "metadata": {
        "id": "YOFzxaEwY4yi",
        "colab_type": "code",
        "outputId": "31f3f190-f49a-4d4a-ce63-f9f8409e6de0",
        "colab": {
          "base_uri": "https://localhost:8080/",
          "height": 596
        }
      },
      "source": [
        "chart = sns.countplot(train['intent'], palette=HAPPY_COLOR_PALLETE)\n",
        "plt.title('Number of Examples per Intent')\n",
        "plt.xticks(rotation=30);"
      ],
      "execution_count": 0,
      "outputs": [
        {
          "output_type": "display_data",
          "data": {
            "image/png": "[encoded data removed]",
            "text/plain": [
              "<Figure size 864x576 with 1 Axes>"
            ]
          },
          "metadata": {
            "tags": [],
            "image/png": {
              "width": 758,
              "height": 579
            }
          }
        }
      ]
    },
    {
      "cell_type": "markdown",
      "metadata": {
        "id": "eBa_QMvTcjdi",
        "colab_type": "text"
      },
      "source": [
        "### Intent Recognition with BERT"
      ]
    },
    {
      "cell_type": "code",
      "metadata": {
        "id": "kSq7qpwLclbC",
        "colab_type": "code",
        "outputId": "6e1c5a5c-d448-4d39-a5ec-846a2a9dbbcd",
        "colab": {
          "base_uri": "https://localhost:8080/",
          "height": 343
        }
      },
      "source": [
        "!wget https://storage.googleapis.com/bert_models/2018_10_18/uncased_L-12_H-768_A-12.zip\n",
        "!unzip uncased_L-12_H-768_A-12.zip"
      ],
      "execution_count": 0,
      "outputs": [
        {
          "output_type": "stream",
          "text": [
            "--2020-04-06 03:53:02--  https://storage.googleapis.com/bert_models/2018_10_18/uncased_L-12_H-768_A-12.zip\n",
            "Resolving storage.googleapis.com (storage.googleapis.com)... 64.233.167.128, 2a00:1450:400c:c0a::80\n",
            "Connecting to storage.googleapis.com (storage.googleapis.com)|64.233.167.128|:443... connected.\n",
            "HTTP request sent, awaiting response... 200 OK\n",
            "Length: 407727028 (389M) [application/zip]\n",
            "Saving to: ‘uncased_L-12_H-768_A-12.zip’\n",
            "\n",
            "uncased_L-12_H-768_ 100%[===================>] 388.84M  94.5MB/s    in 4.1s    \n",
            "\n",
            "2020-04-06 03:53:06 (94.5 MB/s) - ‘uncased_L-12_H-768_A-12.zip’ saved [407727028/407727028]\n",
            "\n",
            "Archive:  uncased_L-12_H-768_A-12.zip\n",
            "   creating: uncased_L-12_H-768_A-12/\n",
            "  inflating: uncased_L-12_H-768_A-12/bert_model.ckpt.meta  \n",
            "  inflating: uncased_L-12_H-768_A-12/bert_model.ckpt.data-00000-of-00001  \n",
            "  inflating: uncased_L-12_H-768_A-12/vocab.txt  \n",
            "  inflating: uncased_L-12_H-768_A-12/bert_model.ckpt.index  \n",
            "  inflating: uncased_L-12_H-768_A-12/bert_config.json  \n"
          ],
          "name": "stdout"
        }
      ]
    },
    {
      "cell_type": "code",
      "metadata": {
        "id": "WY_80N7PcwQU",
        "colab_type": "code",
        "colab": {}
      },
      "source": [
        "os.makedirs('model', exist_ok=True)\n",
        "# content icine model diye bir klasor olusturuyoruz ve unzip ettigimiz modeli oraya tasiyacagiz"
      ],
      "execution_count": 0,
      "outputs": []
    },
    {
      "cell_type": "code",
      "metadata": {
        "id": "eerCPOzPdYyA",
        "colab_type": "code",
        "colab": {}
      },
      "source": [
        "!mv uncased_L-12_H-768_A-12/ model"
      ],
      "execution_count": 0,
      "outputs": []
    },
    {
      "cell_type": "code",
      "metadata": {
        "id": "b1cvxBXCdmVf",
        "colab_type": "code",
        "colab": {}
      },
      "source": [
        "bert_model_name = 'uncased_L-12_H-768_A-12'\n",
        "\n",
        "#bert checkpoint direktoruyu tanimliyoruz\n",
        "bert_ckpt_dir = os.path.join('model/', bert_model_name)\n",
        "\n",
        "#bert model checkpoint\n",
        "bert_ckpt_file = os.path.join(bert_ckpt_dir, 'bert_model.ckpt')\n",
        "\n",
        "#bert config file\n",
        "bert_config_file = os.path.join(bert_ckpt_dir, 'bert_config.json')"
      ],
      "execution_count": 0,
      "outputs": []
    },
    {
      "cell_type": "markdown",
      "metadata": {
        "id": "ZxIf2_z3fphs",
        "colab_type": "text"
      },
      "source": [
        "## Preprocessing"
      ]
    },
    {
      "cell_type": "code",
      "metadata": {
        "id": "1rU-myXGepAb",
        "colab_type": "code",
        "colab": {}
      },
      "source": [
        "class IntentDetectionData:\n",
        "  DATA_COLUMN = \"text\" # text column in dataframe\n",
        "  LABEL_COLUMN = \"intent\"\n",
        "\n",
        "  def __init__(\n",
        "    self,\n",
        "    train,\n",
        "    test,\n",
        "    tokenizer: FullTokenizer,\n",
        "    classes,\n",
        "    max_seq_len=192\n",
        "  ):\n",
        "    self.tokenizer = tokenizer\n",
        "    self.max_seq_len = 0\n",
        "    # classes are unique labels in the df\n",
        "    self.classes = classes\n",
        "\n",
        "    ((self.train_x, self.train_y), (self.test_x, self.test_y)) =\\\n",
        "     map(self._prepare, [train, test])\n",
        "\n",
        "    # max_seq_len default olarak 192 olarak belirledik simdilik ama bu kadar uzuna ihtiyacimiz olmayabilir\n",
        "    # prepare methodu bunu hesapladiktan sonra gercek degeri burada belirleyecegiz\n",
        "    # eger belirlenden daha uzunsa burada kesecegiz eger daha kisaysa onu deger olarak alacagiz  \n",
        "    print(\"max seq_len\", self.max_seq_len)\n",
        "    self.max_seq_len = min(self.max_seq_len, max_seq_len)\n",
        "\n",
        "    # padding burada yapacagiz\n",
        "    self.train_x, self.test_x = map(\n",
        "      self._pad,\n",
        "      [self.train_x, self.test_x]\n",
        "    )\n",
        "\n",
        "  def _prepare(self, df):\n",
        "    x, y = [], []\n",
        "\n",
        "    for _, row in tqdm(df.iterrows()):\n",
        "      text, label =\\\n",
        "       row[IntentDetectionData.DATA_COLUMN], \\\n",
        "       row[IntentDetectionData.LABEL_COLUMN]\n",
        "      # Tokenizing is done here\n",
        "      tokens = self.tokenizer.tokenize(text)\n",
        "      tokens = [\"[CLS]\"] + tokens + [\"[SEP]\"]\n",
        "\n",
        "      token_ids = self.tokenizer.convert_tokens_to_ids(tokens)\n",
        "      self.max_seq_len = max(self.max_seq_len, len(token_ids))\n",
        "      x.append(token_ids)\n",
        "      y.append(self.classes.index(label))\n",
        "\n",
        "    return np.array(x), np.array(y)\n",
        "\n",
        "  def _pad(self, ids):\n",
        "    x = []\n",
        "    for input_ids in ids:\n",
        "      cut_point = min(len(input_ids), self.max_seq_len - 2)\n",
        "      input_ids = input_ids[:cut_point] # we're substracting CLS and SEP tokens \n",
        "      # mesela max_seq_len 30 ve len(input_ids) 25 aradaki fark yani 5 kadar 0 ile pad ederiz\n",
        "      input_ids = input_ids + [0] * (self.max_seq_len - len(input_ids)) # eksik kalan kismi 0 ile pad ederiz\n",
        "      x.append(np.array(input_ids))\n",
        "    return np.array(x)"
      ],
      "execution_count": 0,
      "outputs": []
    },
    {
      "cell_type": "code",
      "metadata": {
        "id": "hMd3QRlpHIZ5",
        "colab_type": "code",
        "colab": {}
      },
      "source": [
        "tokenizer = FullTokenizer(vocab_file=os.path.join(bert_ckpt_dir, 'vocab.txt'))\n",
        "#tokenizer = FullTokenizer(vocab_file=('model/uncased_L-12_H-768_A-12/vocab.txt'))"
      ],
      "execution_count": 0,
      "outputs": []
    },
    {
      "cell_type": "code",
      "metadata": {
        "id": "JBFgK-CqKLUq",
        "colab_type": "code",
        "outputId": "5c7612aa-1a0f-4f0a-9aa2-8c9d8b60e297",
        "colab": {
          "base_uri": "https://localhost:8080/",
          "height": 51
        }
      },
      "source": [
        "tokens = tokenizer.tokenize(\"I can't wait to visit Turkey\")\n",
        "token_id = tokenizer.convert_tokens_to_ids(tokens)\n",
        "print(tokens)\n",
        "print(token_id)"
      ],
      "execution_count": 0,
      "outputs": [
        {
          "output_type": "stream",
          "text": [
            "['i', 'can', \"'\", 't', 'wait', 'to', 'visit', 'turkey']\n",
            "[1045, 2064, 1005, 1056, 3524, 2000, 3942, 4977]\n"
          ],
          "name": "stdout"
        }
      ]
    },
    {
      "cell_type": "markdown",
      "metadata": {
        "id": "8y5GGXg-jlJm",
        "colab_type": "text"
      },
      "source": [
        "**Fine Tuning**\n",
        "\n",
        "Let’s make BERT usable for text classification! We’ll load the model and attach a couple of layers on it"
      ]
    },
    {
      "cell_type": "code",
      "metadata": {
        "id": "7KxGfu0bKVsy",
        "colab_type": "code",
        "colab": {}
      },
      "source": [
        "def create_model(max_seq_len, bert_config_file, bert_ckpt_file):\n",
        "\n",
        "    with tf.io.gfile.GFile(bert_config_file, 'r') as reader:\n",
        "        # we're reading the bert config file here\n",
        "        # bert config ==> bc  \n",
        "        bc = StockBertConfig.from_json_string(reader.read())\n",
        "\n",
        "        # geeting the parameters from config file\n",
        "        bert_params = map_stock_config_to_params(bc)\n",
        "\n",
        "        # adapter size is used in fine tuning to make it faster but we will not use here now\n",
        "        bert_params.adapter_size = None\n",
        "\n",
        "        bert = BertModelLayer.from_params(bert_params, name='bert')\n",
        "\n",
        "    input_ids = keras.layers.Input(shape=(max_seq_len, ), dtype='int32', name='input_ids')\n",
        "    bert_output = bert(input_ids)\n",
        "\n",
        "    print('bert shape: ', bert_output.shape)\n",
        "    cls_out = keras.layers.Lambda(lambda seq: seq[:, 0, :])(bert_output)\n",
        "    drop1 = keras.layers.Dropout(0.5)(cls_out)\n",
        "    dense1 = keras.layers.Dense(units=768, activation='tanh')(drop1)\n",
        "    drop2 = keras.layers.Dropout(0.5)(dense1)\n",
        "    output_layer = keras.layers.Dense(len(classes), activation='softmax')(drop2)\n",
        "\n",
        "    model = keras.Model(inputs=input_ids, outputs=output_layer)\n",
        "    model.build(input_shape=(None, max_seq_len)) # first parameter for batch size and SHOULD BE NONE, keras infers it\n",
        "\n",
        "    load_stock_weights(bert, bert_ckpt_file)\n",
        "\n",
        "    return model"
      ],
      "execution_count": 0,
      "outputs": []
    },
    {
      "cell_type": "code",
      "metadata": {
        "id": "AwwRQl0sLUqE",
        "colab_type": "code",
        "outputId": "9ef9ab59-cded-451e-edee-2f74aab241e6",
        "colab": {
          "base_uri": "https://localhost:8080/",
          "height": 136
        }
      },
      "source": [
        "classes = train['intent'].unique().tolist()\n",
        "classes"
      ],
      "execution_count": 0,
      "outputs": [
        {
          "output_type": "execute_result",
          "data": {
            "text/plain": [
              "['PlayMusic',\n",
              " 'AddToPlaylist',\n",
              " 'RateBook',\n",
              " 'SearchScreeningEvent',\n",
              " 'BookRestaurant',\n",
              " 'GetWeather',\n",
              " 'SearchCreativeWork']"
            ]
          },
          "metadata": {
            "tags": []
          },
          "execution_count": 26
        }
      ]
    },
    {
      "cell_type": "code",
      "metadata": {
        "id": "gTdt6ASRexrW",
        "colab_type": "code",
        "outputId": "4ec80dd9-0de9-41f3-8075-9bf42833b1ef",
        "colab": {
          "base_uri": "https://localhost:8080/",
          "height": 68
        }
      },
      "source": [
        "data = IntentDetectionData(train, test, tokenizer, classes, max_seq_len=128)"
      ],
      "execution_count": 0,
      "outputs": [
        {
          "output_type": "stream",
          "text": [
            "13784it [00:05, 2676.21it/s]\n",
            "700it [00:00, 2513.92it/s]\n"
          ],
          "name": "stderr"
        },
        {
          "output_type": "stream",
          "text": [
            "max seq_len 38\n"
          ],
          "name": "stdout"
        }
      ]
    },
    {
      "cell_type": "code",
      "metadata": {
        "id": "U9ZL37j1OpWH",
        "colab_type": "code",
        "outputId": "393755f5-dff5-4ca7-f1dc-91c9b23516d5",
        "colab": {
          "base_uri": "https://localhost:8080/",
          "height": 258
        }
      },
      "source": [
        "model = create_model(data.max_seq_len, bert_config_file, bert_ckpt_file)"
      ],
      "execution_count": 0,
      "outputs": [
        {
          "output_type": "stream",
          "text": [
            "bert shape:  (None, 38, 768)\n",
            "Done loading 196 BERT weights from: model/uncased_L-12_H-768_A-12/bert_model.ckpt into <bert.model.BertModelLayer object at 0x7ff20a4e0278> (prefix:bert). Count of weights not found in the checkpoint was: [0]. Count of weights with mismatched shape: [0]\n",
            "Unused weights from checkpoint: \n",
            "\tbert/embeddings/token_type_embeddings\n",
            "\tbert/pooler/dense/bias\n",
            "\tbert/pooler/dense/kernel\n",
            "\tcls/predictions/output_bias\n",
            "\tcls/predictions/transform/LayerNorm/beta\n",
            "\tcls/predictions/transform/LayerNorm/gamma\n",
            "\tcls/predictions/transform/dense/bias\n",
            "\tcls/predictions/transform/dense/kernel\n",
            "\tcls/seq_relationship/output_bias\n",
            "\tcls/seq_relationship/output_weights\n"
          ],
          "name": "stdout"
        }
      ]
    },
    {
      "cell_type": "code",
      "metadata": {
        "id": "cPILUBZ8PUWi",
        "colab_type": "code",
        "outputId": "4e1d143b-e153-4971-bfc5-a97a462023e8",
        "colab": {
          "base_uri": "https://localhost:8080/",
          "height": 34
        }
      },
      "source": [
        "data.train_x.shape"
      ],
      "execution_count": 0,
      "outputs": [
        {
          "output_type": "execute_result",
          "data": {
            "text/plain": [
              "(13784, 38)"
            ]
          },
          "metadata": {
            "tags": []
          },
          "execution_count": 29
        }
      ]
    },
    {
      "cell_type": "code",
      "metadata": {
        "id": "ifn2Ul3sZ2XP",
        "colab_type": "code",
        "outputId": "82d4ed33-e2ed-4664-f2cf-a4475684862e",
        "colab": {
          "base_uri": "https://localhost:8080/",
          "height": 34
        }
      },
      "source": [
        "data.train_y[0]"
      ],
      "execution_count": 0,
      "outputs": [
        {
          "output_type": "execute_result",
          "data": {
            "text/plain": [
              "0"
            ]
          },
          "metadata": {
            "tags": []
          },
          "execution_count": 30
        }
      ]
    },
    {
      "cell_type": "code",
      "metadata": {
        "id": "aV-2kd9taj-0",
        "colab_type": "code",
        "outputId": "6c8d924e-e3c0-41d1-c41a-6e722f2eb45c",
        "colab": {
          "base_uri": "https://localhost:8080/",
          "height": 156
        }
      },
      "source": [
        "print(train['text'][0])\n",
        "print(data.train_x[0])\n",
        "print(tokenizer.tokenize(train['text'][0]))\n",
        "print(train['intent'][0])"
      ],
      "execution_count": 0,
      "outputs": [
        {
          "output_type": "stream",
          "text": [
            "listen to westbam alumb allergic on google music\n",
            "[  101  4952  2000  2225  3676  2213  2632 25438 27395  2006  8224  2189\n",
            "   102     0     0     0     0     0     0     0     0     0     0     0\n",
            "     0     0     0     0     0     0     0     0     0     0     0     0\n",
            "     0     0]\n",
            "['listen', 'to', 'west', '##ba', '##m', 'al', '##umb', 'allergic', 'on', 'google', 'music']\n",
            "PlayMusic\n"
          ],
          "name": "stdout"
        }
      ]
    },
    {
      "cell_type": "code",
      "metadata": {
        "id": "NaP_wW2pabWT",
        "colab_type": "code",
        "outputId": "37d5c15f-b9a2-47cc-dadb-7bb1cd567471",
        "colab": {
          "base_uri": "https://localhost:8080/",
          "height": 34
        }
      },
      "source": [
        "data.train_y[1]"
      ],
      "execution_count": 0,
      "outputs": [
        {
          "output_type": "execute_result",
          "data": {
            "text/plain": [
              "1"
            ]
          },
          "metadata": {
            "tags": []
          },
          "execution_count": 32
        }
      ]
    },
    {
      "cell_type": "code",
      "metadata": {
        "id": "kt5slCiJaeRs",
        "colab_type": "code",
        "outputId": "d608a551-cb25-453b-d614-5e031bfb60ca",
        "colab": {
          "base_uri": "https://localhost:8080/",
          "height": 391
        }
      },
      "source": [
        "model.summary()"
      ],
      "execution_count": 0,
      "outputs": [
        {
          "output_type": "stream",
          "text": [
            "Model: \"model\"\n",
            "_________________________________________________________________\n",
            "Layer (type)                 Output Shape              Param #   \n",
            "=================================================================\n",
            "input_ids (InputLayer)       [(None, 38)]              0         \n",
            "_________________________________________________________________\n",
            "bert (BertModelLayer)        (None, 38, 768)           108890112 \n",
            "_________________________________________________________________\n",
            "lambda (Lambda)              (None, 768)               0         \n",
            "_________________________________________________________________\n",
            "dropout (Dropout)            (None, 768)               0         \n",
            "_________________________________________________________________\n",
            "dense (Dense)                (None, 768)               590592    \n",
            "_________________________________________________________________\n",
            "dropout_1 (Dropout)          (None, 768)               0         \n",
            "_________________________________________________________________\n",
            "dense_1 (Dense)              (None, 7)                 5383      \n",
            "=================================================================\n",
            "Total params: 109,486,087\n",
            "Trainable params: 109,486,087\n",
            "Non-trainable params: 0\n",
            "_________________________________________________________________\n"
          ],
          "name": "stdout"
        }
      ]
    },
    {
      "cell_type": "code",
      "metadata": {
        "id": "naoQi3OLlJit",
        "colab_type": "code",
        "colab": {}
      },
      "source": [
        "model.compile(\n",
        "    optimizer=keras.optimizers.Adam(1e-5),\n",
        "    # Label'lari one hot encoding yapmak istemiyoruz bu yuzden loss func olarak SPARSE CATEGORICAL i kullaniyoruz\n",
        "    loss = keras.losses.SparseCategoricalCrossentropy(from_logits=True),\n",
        "    metrics = [keras.metrics.SparseCategoricalAccuracy(name='acc')]\n",
        ")"
      ],
      "execution_count": 0,
      "outputs": []
    },
    {
      "cell_type": "code",
      "metadata": {
        "id": "Jays6p0_mKMb",
        "colab_type": "code",
        "colab": {}
      },
      "source": [
        "log_dir = 'log/inent_detection' + datetime.datetime.now().strftime(\"%YYm%d-%H%M%s\")"
      ],
      "execution_count": 0,
      "outputs": []
    },
    {
      "cell_type": "code",
      "metadata": {
        "id": "uw4-zpUcnGBd",
        "colab_type": "code",
        "colab": {}
      },
      "source": [
        "tensorboard_callback = keras.callbacks.TensorBoard(log_dir=log_dir)"
      ],
      "execution_count": 0,
      "outputs": []
    },
    {
      "cell_type": "code",
      "metadata": {
        "id": "5_9ysy40nfhS",
        "colab_type": "code",
        "outputId": "d3cd3108-7b0f-49c8-eb8f-db85a3f059ee",
        "colab": {
          "base_uri": "https://localhost:8080/",
          "height": 224
        }
      },
      "source": [
        "history = model.fit(\n",
        "    x = data.train_x,\n",
        "    y = data.train_y,\n",
        "    validation_split= 0.1,\n",
        "    batch_size= 16,\n",
        "    shuffle = True,\n",
        "    epochs = 5,\n",
        "    callbacks = [tensorboard_callback]\n",
        "\n",
        ")"
      ],
      "execution_count": 0,
      "outputs": [
        {
          "output_type": "stream",
          "text": [
            "Train on 12405 samples, validate on 1379 samples\n",
            "Epoch 1/5\n",
            "12405/12405 [==============================] - 302s 24ms/sample - loss: 1.2944 - acc: 0.8884 - val_loss: 1.1815 - val_acc: 0.9833\n",
            "Epoch 2/5\n",
            "12405/12405 [==============================] - 280s 23ms/sample - loss: 1.1824 - acc: 0.9848 - val_loss: 1.1776 - val_acc: 0.9884\n",
            "Epoch 3/5\n",
            "12405/12405 [==============================] - 279s 23ms/sample - loss: 1.1788 - acc: 0.9873 - val_loss: 1.1817 - val_acc: 0.9840\n",
            "Epoch 4/5\n",
            "12405/12405 [==============================] - 281s 23ms/sample - loss: 1.1753 - acc: 0.9906 - val_loss: 1.1776 - val_acc: 0.9877\n",
            "Epoch 5/5\n",
            "12405/12405 [==============================] - 281s 23ms/sample - loss: 1.1750 - acc: 0.9907 - val_loss: 1.1764 - val_acc: 0.9891\n"
          ],
          "name": "stdout"
        }
      ]
    },
    {
      "cell_type": "code",
      "metadata": {
        "id": "hID8i16rqhss",
        "colab_type": "code",
        "colab": {}
      },
      "source": [
        "model.save_weights('bert_weights.h5')\n",
        "model = model.load_weights('bert_weights.h5') "
      ],
      "execution_count": 0,
      "outputs": []
    },
    {
      "cell_type": "code",
      "metadata": {
        "id": "FzjvYPCioF3L",
        "colab_type": "code",
        "outputId": "9fb2ec65-2b53-46a6-dfdb-c399a77cce95",
        "colab": {
          "base_uri": "https://localhost:8080/",
          "height": 105
        }
      },
      "source": [
        "_, train_acc = model.evaluate(data.train_x, data.train_y)\n",
        "_, test_acc = model.evaluate(data.test_x, data.test_y)\n",
        "\n",
        "print(\"train acc\", train_acc)\n",
        "print(\"test acc\", test_acc)"
      ],
      "execution_count": 0,
      "outputs": [
        {
          "output_type": "stream",
          "text": [
            "13784/13784 [==============================] - 37s 3ms/sample - loss: 1.1731 - acc: 0.9922\n",
            "700/700 [==============================] - 2s 3ms/sample - loss: 1.1887 - acc: 0.9757\n",
            "train acc 0.9922374\n",
            "test acc 0.97571427\n"
          ],
          "name": "stdout"
        }
      ]
    },
    {
      "cell_type": "code",
      "metadata": {
        "id": "5uuE6URoqWQi",
        "colab_type": "code",
        "outputId": "f0e22d58-d8f2-40bf-8729-9d41075676b0",
        "colab": {
          "base_uri": "https://localhost:8080/",
          "height": 119
        }
      },
      "source": [
        "sentences = [\n",
        "  \"Play our song now\",\n",
        "  \"Rate this book as awful\"\n",
        "]\n",
        "\n",
        "pred_tokens = map(tokenizer.tokenize, sentences)\n",
        "pred_tokens = map(lambda tok: [\"[CLS]\"] + tok + [\"[SEP]\"], pred_tokens)\n",
        "pred_token_ids = list(map(tokenizer.convert_tokens_to_ids, pred_tokens))\n",
        "\n",
        "pred_token_ids = map(\n",
        "  lambda tids: tids +[0]*(data.max_seq_len-len(tids)),\n",
        "  pred_token_ids\n",
        ")\n",
        "pred_token_ids = np.array(list(pred_token_ids))\n",
        "\n",
        "predictions = model.predict(pred_token_ids).argmax(axis=-1)\n",
        "\n",
        "for text, label in zip(sentences, predictions):\n",
        "  print(\"text:\", text, \"\\nintent:\", classes[label])\n",
        "  print()"
      ],
      "execution_count": 0,
      "outputs": [
        {
          "output_type": "stream",
          "text": [
            "text: Play our song now \n",
            "intent: PlayMusic\n",
            "\n",
            "text: Rate this book as awful \n",
            "intent: RateBook\n",
            "\n"
          ],
          "name": "stdout"
        }
      ]
    },
    {
      "cell_type": "code",
      "metadata": {
        "id": "WhOHu5_XqaS2",
        "colab_type": "code",
        "colab": {}
      },
      "source": [
        ""
      ],
      "execution_count": 0,
      "outputs": []
    }
  ]
}